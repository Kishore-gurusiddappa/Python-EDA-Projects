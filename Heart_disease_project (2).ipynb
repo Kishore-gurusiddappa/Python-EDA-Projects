{
 "cells": [
  {
   "cell_type": "markdown",
   "id": "09ccb7f6-48c3-4aa6-bc9a-9889d6ba5a01",
   "metadata": {},
   "source": [
    "#                             Heart Disease Diagnostic Analysis"
   ]
  },
  {
   "cell_type": "code",
   "execution_count": 1,
   "id": "559cd54d-b4e2-4663-ad68-859f4588babb",
   "metadata": {},
   "outputs": [],
   "source": [
    "# Importing Libraries\n",
    "\n",
    "import numpy as np\n",
    "import matplotlib.pyplot as plt\n",
    "import pandas as pd\n",
    "import seaborn as sns\n",
    "sns.set_style('whitegrid')\n",
    "import warnings\n",
    "warnings.filterwarnings(\"ignore\")"
   ]
  },
  {
   "cell_type": "code",
   "execution_count": 2,
   "id": "5c1be8fe-414b-496f-bd59-1e0a3c1e88d1",
   "metadata": {},
   "outputs": [],
   "source": [
    "#Extracting csv file using Pandas Library\n",
    "\n",
    "data = pd.read_csv('D:/Project_Internship/Heart Disease data/Heart_disease_data.csv')"
   ]
  },
  {
   "cell_type": "code",
   "execution_count": 3,
   "id": "437ae3bc-2550-4255-8900-256cfcc55b30",
   "metadata": {},
   "outputs": [
    {
     "data": {
      "text/html": [
       "<div>\n",
       "<style scoped>\n",
       "    .dataframe tbody tr th:only-of-type {\n",
       "        vertical-align: middle;\n",
       "    }\n",
       "\n",
       "    .dataframe tbody tr th {\n",
       "        vertical-align: top;\n",
       "    }\n",
       "\n",
       "    .dataframe thead th {\n",
       "        text-align: right;\n",
       "    }\n",
       "</style>\n",
       "<table border=\"1\" class=\"dataframe\">\n",
       "  <thead>\n",
       "    <tr style=\"text-align: right;\">\n",
       "      <th></th>\n",
       "      <th>age</th>\n",
       "      <th>sex</th>\n",
       "      <th>cp</th>\n",
       "      <th>trestbps</th>\n",
       "      <th>chol</th>\n",
       "      <th>fbs</th>\n",
       "      <th>restecg</th>\n",
       "      <th>thalach</th>\n",
       "      <th>exang</th>\n",
       "      <th>oldpeak</th>\n",
       "      <th>slope</th>\n",
       "      <th>ca</th>\n",
       "      <th>thal</th>\n",
       "      <th>target</th>\n",
       "    </tr>\n",
       "  </thead>\n",
       "  <tbody>\n",
       "    <tr>\n",
       "      <th>0</th>\n",
       "      <td>52</td>\n",
       "      <td>1</td>\n",
       "      <td>0</td>\n",
       "      <td>125</td>\n",
       "      <td>212</td>\n",
       "      <td>0</td>\n",
       "      <td>1</td>\n",
       "      <td>168</td>\n",
       "      <td>0</td>\n",
       "      <td>1.0</td>\n",
       "      <td>2</td>\n",
       "      <td>2</td>\n",
       "      <td>3</td>\n",
       "      <td>0</td>\n",
       "    </tr>\n",
       "    <tr>\n",
       "      <th>1</th>\n",
       "      <td>53</td>\n",
       "      <td>1</td>\n",
       "      <td>0</td>\n",
       "      <td>140</td>\n",
       "      <td>203</td>\n",
       "      <td>1</td>\n",
       "      <td>0</td>\n",
       "      <td>155</td>\n",
       "      <td>1</td>\n",
       "      <td>3.1</td>\n",
       "      <td>0</td>\n",
       "      <td>0</td>\n",
       "      <td>3</td>\n",
       "      <td>0</td>\n",
       "    </tr>\n",
       "    <tr>\n",
       "      <th>2</th>\n",
       "      <td>70</td>\n",
       "      <td>1</td>\n",
       "      <td>0</td>\n",
       "      <td>145</td>\n",
       "      <td>174</td>\n",
       "      <td>0</td>\n",
       "      <td>1</td>\n",
       "      <td>125</td>\n",
       "      <td>1</td>\n",
       "      <td>2.6</td>\n",
       "      <td>0</td>\n",
       "      <td>0</td>\n",
       "      <td>3</td>\n",
       "      <td>0</td>\n",
       "    </tr>\n",
       "    <tr>\n",
       "      <th>3</th>\n",
       "      <td>61</td>\n",
       "      <td>1</td>\n",
       "      <td>0</td>\n",
       "      <td>148</td>\n",
       "      <td>203</td>\n",
       "      <td>0</td>\n",
       "      <td>1</td>\n",
       "      <td>161</td>\n",
       "      <td>0</td>\n",
       "      <td>0.0</td>\n",
       "      <td>2</td>\n",
       "      <td>1</td>\n",
       "      <td>3</td>\n",
       "      <td>0</td>\n",
       "    </tr>\n",
       "    <tr>\n",
       "      <th>4</th>\n",
       "      <td>62</td>\n",
       "      <td>0</td>\n",
       "      <td>0</td>\n",
       "      <td>138</td>\n",
       "      <td>294</td>\n",
       "      <td>1</td>\n",
       "      <td>1</td>\n",
       "      <td>106</td>\n",
       "      <td>0</td>\n",
       "      <td>1.9</td>\n",
       "      <td>1</td>\n",
       "      <td>3</td>\n",
       "      <td>2</td>\n",
       "      <td>0</td>\n",
       "    </tr>\n",
       "  </tbody>\n",
       "</table>\n",
       "</div>"
      ],
      "text/plain": [
       "   age  sex  cp  trestbps  chol  fbs  restecg  thalach  exang  oldpeak  slope  \\\n",
       "0   52    1   0       125   212    0        1      168      0      1.0      2   \n",
       "1   53    1   0       140   203    1        0      155      1      3.1      0   \n",
       "2   70    1   0       145   174    0        1      125      1      2.6      0   \n",
       "3   61    1   0       148   203    0        1      161      0      0.0      2   \n",
       "4   62    0   0       138   294    1        1      106      0      1.9      1   \n",
       "\n",
       "   ca  thal  target  \n",
       "0   2     3       0  \n",
       "1   0     3       0  \n",
       "2   0     3       0  \n",
       "3   1     3       0  \n",
       "4   3     2       0  "
      ]
     },
     "execution_count": 3,
     "metadata": {},
     "output_type": "execute_result"
    }
   ],
   "source": [
    "data.head()"
   ]
  },
  {
   "cell_type": "code",
   "execution_count": 4,
   "id": "6723ee8d-2289-41fb-ba46-1cb0b18e5d75",
   "metadata": {},
   "outputs": [
    {
     "data": {
      "text/plain": [
       "(1025, 14)"
      ]
     },
     "execution_count": 4,
     "metadata": {},
     "output_type": "execute_result"
    }
   ],
   "source": [
    "data.shape"
   ]
  },
  {
   "cell_type": "code",
   "execution_count": 5,
   "id": "18fc45e9-086d-45df-aa29-f49892e84e20",
   "metadata": {},
   "outputs": [
    {
     "data": {
      "text/plain": [
       "<bound method NDFrame.describe of       age  sex  cp  trestbps  chol  fbs  restecg  thalach  exang  oldpeak  \\\n",
       "0      52    1   0       125   212    0        1      168      0      1.0   \n",
       "1      53    1   0       140   203    1        0      155      1      3.1   \n",
       "2      70    1   0       145   174    0        1      125      1      2.6   \n",
       "3      61    1   0       148   203    0        1      161      0      0.0   \n",
       "4      62    0   0       138   294    1        1      106      0      1.9   \n",
       "...   ...  ...  ..       ...   ...  ...      ...      ...    ...      ...   \n",
       "1020   59    1   1       140   221    0        1      164      1      0.0   \n",
       "1021   60    1   0       125   258    0        0      141      1      2.8   \n",
       "1022   47    1   0       110   275    0        0      118      1      1.0   \n",
       "1023   50    0   0       110   254    0        0      159      0      0.0   \n",
       "1024   54    1   0       120   188    0        1      113      0      1.4   \n",
       "\n",
       "      slope  ca  thal  target  \n",
       "0         2   2     3       0  \n",
       "1         0   0     3       0  \n",
       "2         0   0     3       0  \n",
       "3         2   1     3       0  \n",
       "4         1   3     2       0  \n",
       "...     ...  ..   ...     ...  \n",
       "1020      2   0     2       1  \n",
       "1021      1   1     3       0  \n",
       "1022      1   1     2       0  \n",
       "1023      2   0     2       1  \n",
       "1024      1   1     3       0  \n",
       "\n",
       "[1025 rows x 14 columns]>"
      ]
     },
     "execution_count": 5,
     "metadata": {},
     "output_type": "execute_result"
    }
   ],
   "source": [
    "data.describe"
   ]
  },
  {
   "cell_type": "code",
   "execution_count": 6,
   "id": "16b7a9ab-95b0-4248-a884-5995b987fdc9",
   "metadata": {},
   "outputs": [
    {
     "data": {
      "text/plain": [
       "Index(['age', 'sex', 'cp', 'trestbps', 'chol', 'fbs', 'restecg', 'thalach',\n",
       "       'exang', 'oldpeak', 'slope', 'ca', 'thal', 'target'],\n",
       "      dtype='object')"
      ]
     },
     "execution_count": 6,
     "metadata": {},
     "output_type": "execute_result"
    }
   ],
   "source": [
    "data.columns"
   ]
  },
  {
   "cell_type": "markdown",
   "id": "ecf17b49-1210-4585-a2ce-cc3912427847",
   "metadata": {},
   "source": [
    "Attribute Information:\n",
    "\n",
    "age\n",
    "\n",
    "sex\n",
    "\n",
    "chest pain type (4 values)\n",
    "\n",
    "resting blood pressure\n",
    "\n",
    "serum cholestoral in mg/dl\n",
    "\n",
    "fasting blood sugar > 120 mg/dl\n",
    "\n",
    "resting electrocardiographic results (values 0,1,2)\n",
    "\n",
    "maximum heart rate achieved\n",
    "\n",
    "exercise induced angina\n",
    "\n",
    "oldpeak = ST depression induced by exercise relative to rest\n",
    "\n",
    "the slope of the peak exercise ST segment\n",
    "\n",
    "number of major vessels (0-3) colored by flourosopy\n",
    "\n",
    "thal: 0 = normal; 1 = fixed defect; 2 = reversable defect"
   ]
  },
  {
   "cell_type": "code",
   "execution_count": 7,
   "id": "1161e531-5b5f-41b8-880a-8453c4cb26c6",
   "metadata": {},
   "outputs": [
    {
     "data": {
      "text/plain": [
       "age         0\n",
       "sex         0\n",
       "cp          0\n",
       "trestbps    0\n",
       "chol        0\n",
       "fbs         0\n",
       "restecg     0\n",
       "thalach     0\n",
       "exang       0\n",
       "oldpeak     0\n",
       "slope       0\n",
       "ca          0\n",
       "thal        0\n",
       "target      0\n",
       "dtype: int64"
      ]
     },
     "execution_count": 7,
     "metadata": {},
     "output_type": "execute_result"
    }
   ],
   "source": [
    "data.isnull().sum()"
   ]
  },
  {
   "cell_type": "code",
   "execution_count": 8,
   "id": "e61f0e51-c426-4e80-b92c-25366e62aaa1",
   "metadata": {},
   "outputs": [
    {
     "data": {
      "image/png": "[encoded data removed]",
      "text/plain": [
       "<Figure size 1000x600 with 1 Axes>"
      ]
     },
     "metadata": {},
     "output_type": "display_data"
    }
   ],
   "source": [
    "plt.figure(figsize=(10,6))\n",
    "data.boxplot()\n",
    "plt.title(\"Box plot detecting outliers\")\n",
    "plt.ylabel('Value')\n",
    "plt.xticks(rotation=90)\n",
    "plt.grid(True)\n",
    "plt.show()"
   ]
  },
  {
   "cell_type": "code",
   "execution_count": 9,
   "id": "c931775f-a773-41e6-ba41-3ac67ff8fb27",
   "metadata": {},
   "outputs": [],
   "source": [
    "#Remove outliers from numerical variables\n",
    "from scipy import stats\n",
    "z_scores = stats.zscore(data)\n",
    "threshold = 3\n",
    "outliers = (z_scores > threshold) | (z_scores < -threshold)\n",
    "Cleaned_data = data[~outliers.any(axis=1)]"
   ]
  },
  {
   "cell_type": "code",
   "execution_count": 27,
   "id": "c5e43682-8e91-489c-affd-fbf02f290fe6",
   "metadata": {},
   "outputs": [
    {
     "data": {
      "image/png": "[encoded data removed]",
      "text/plain": [
       "<Figure size 1000x600 with 1 Axes>"
      ]
     },
     "metadata": {},
     "output_type": "display_data"
    }
   ],
   "source": [
    "plt.figure(figsize=(10,6))\n",
    "Cleaned_data.boxplot()\n",
    "plt.title(\"Box plot after removeing almost outliers\")\n",
    "plt.ylabel('Value')\n",
    "plt.xticks(rotation=90)\n",
    "plt.grid(True)\n",
    "plt.show()"
   ]
  },
  {
   "cell_type": "code",
   "execution_count": 28,
   "id": "207fa009-d62e-46b6-bfd7-98328650a300",
   "metadata": {},
   "outputs": [
    {
     "data": {
      "text/plain": [
       "age         0\n",
       "sex         0\n",
       "cp          0\n",
       "trestbps    0\n",
       "chol        0\n",
       "fbs         0\n",
       "restecg     0\n",
       "thalach     0\n",
       "exang       0\n",
       "oldpeak     0\n",
       "slope       0\n",
       "ca          0\n",
       "thal        0\n",
       "target      0\n",
       "dtype: int64"
      ]
     },
     "execution_count": 28,
     "metadata": {},
     "output_type": "execute_result"
    }
   ],
   "source": [
    "Cleaned_data.isna().sum()"
   ]
  },
  {
   "cell_type": "code",
   "execution_count": 12,
   "id": "775fea16-f0e7-4aab-9cb7-090a8af68c07",
   "metadata": {},
   "outputs": [
    {
     "data": {
      "image/png": "[encoded data removed]",
      "text/plain": [
       "<Figure size 1400x1400 with 16 Axes>"
      ]
     },
     "metadata": {},
     "output_type": "display_data"
    }
   ],
   "source": [
    "Cleaned_data.hist(figsize=(14,14))\n",
    "plt.show()"
   ]
  },
  {
   "cell_type": "code",
   "execution_count": 13,
   "id": "a9897257-0753-4273-baf6-1f016cf54f45",
   "metadata": {},
   "outputs": [],
   "source": [
    "num=data.groupby('target').size()"
   ]
  },
  {
   "cell_type": "code",
   "execution_count": 14,
   "id": "903888ee-6c29-4566-9521-73e93dd5be5b",
   "metadata": {},
   "outputs": [
    {
     "data": {
      "text/plain": [
       "target\n",
       "0    499\n",
       "1    526\n",
       "dtype: int64"
      ]
     },
     "execution_count": 14,
     "metadata": {},
     "output_type": "execute_result"
    }
   ],
   "source": [
    "num #heart disase 0 = no , 1 = yes"
   ]
  },
  {
   "cell_type": "code",
   "execution_count": 15,
   "id": "1ba95371-bf90-450e-9a93-20ea33d984f5",
   "metadata": {},
   "outputs": [],
   "source": [
    "#Converting Numerical Data into Categorical Data\n",
    "\n",
    "def heart_disease(row):\n",
    "    if row==0:\n",
    "        return 'Absence'\n",
    "    elif row==1:\n",
    "        return 'Presence'"
   ]
  },
  {
   "cell_type": "code",
   "execution_count": 17,
   "id": "d2265d33-1b7a-484b-9a5a-c8d769aec8d6",
   "metadata": {},
   "outputs": [
    {
     "data": {
      "text/html": [
       "<div>\n",
       "<style scoped>\n",
       "    .dataframe tbody tr th:only-of-type {\n",
       "        vertical-align: middle;\n",
       "    }\n",
       "\n",
       "    .dataframe tbody tr th {\n",
       "        vertical-align: top;\n",
       "    }\n",
       "\n",
       "    .dataframe thead th {\n",
       "        text-align: right;\n",
       "    }\n",
       "</style>\n",
       "<table border=\"1\" class=\"dataframe\">\n",
       "  <thead>\n",
       "    <tr style=\"text-align: right;\">\n",
       "      <th></th>\n",
       "      <th>age</th>\n",
       "      <th>sex</th>\n",
       "      <th>cp</th>\n",
       "      <th>trestbps</th>\n",
       "      <th>chol</th>\n",
       "      <th>fbs</th>\n",
       "      <th>restecg</th>\n",
       "      <th>thalach</th>\n",
       "      <th>exang</th>\n",
       "      <th>oldpeak</th>\n",
       "      <th>slope</th>\n",
       "      <th>ca</th>\n",
       "      <th>thal</th>\n",
       "      <th>target</th>\n",
       "      <th>Heart_Disease</th>\n",
       "    </tr>\n",
       "  </thead>\n",
       "  <tbody>\n",
       "    <tr>\n",
       "      <th>0</th>\n",
       "      <td>52</td>\n",
       "      <td>1</td>\n",
       "      <td>0</td>\n",
       "      <td>125</td>\n",
       "      <td>212</td>\n",
       "      <td>0</td>\n",
       "      <td>1</td>\n",
       "      <td>168</td>\n",
       "      <td>0</td>\n",
       "      <td>1.0</td>\n",
       "      <td>2</td>\n",
       "      <td>2</td>\n",
       "      <td>3</td>\n",
       "      <td>0</td>\n",
       "      <td>Absence</td>\n",
       "    </tr>\n",
       "    <tr>\n",
       "      <th>1</th>\n",
       "      <td>53</td>\n",
       "      <td>1</td>\n",
       "      <td>0</td>\n",
       "      <td>140</td>\n",
       "      <td>203</td>\n",
       "      <td>1</td>\n",
       "      <td>0</td>\n",
       "      <td>155</td>\n",
       "      <td>1</td>\n",
       "      <td>3.1</td>\n",
       "      <td>0</td>\n",
       "      <td>0</td>\n",
       "      <td>3</td>\n",
       "      <td>0</td>\n",
       "      <td>Absence</td>\n",
       "    </tr>\n",
       "    <tr>\n",
       "      <th>2</th>\n",
       "      <td>70</td>\n",
       "      <td>1</td>\n",
       "      <td>0</td>\n",
       "      <td>145</td>\n",
       "      <td>174</td>\n",
       "      <td>0</td>\n",
       "      <td>1</td>\n",
       "      <td>125</td>\n",
       "      <td>1</td>\n",
       "      <td>2.6</td>\n",
       "      <td>0</td>\n",
       "      <td>0</td>\n",
       "      <td>3</td>\n",
       "      <td>0</td>\n",
       "      <td>Absence</td>\n",
       "    </tr>\n",
       "    <tr>\n",
       "      <th>3</th>\n",
       "      <td>61</td>\n",
       "      <td>1</td>\n",
       "      <td>0</td>\n",
       "      <td>148</td>\n",
       "      <td>203</td>\n",
       "      <td>0</td>\n",
       "      <td>1</td>\n",
       "      <td>161</td>\n",
       "      <td>0</td>\n",
       "      <td>0.0</td>\n",
       "      <td>2</td>\n",
       "      <td>1</td>\n",
       "      <td>3</td>\n",
       "      <td>0</td>\n",
       "      <td>Absence</td>\n",
       "    </tr>\n",
       "    <tr>\n",
       "      <th>4</th>\n",
       "      <td>62</td>\n",
       "      <td>0</td>\n",
       "      <td>0</td>\n",
       "      <td>138</td>\n",
       "      <td>294</td>\n",
       "      <td>1</td>\n",
       "      <td>1</td>\n",
       "      <td>106</td>\n",
       "      <td>0</td>\n",
       "      <td>1.9</td>\n",
       "      <td>1</td>\n",
       "      <td>3</td>\n",
       "      <td>2</td>\n",
       "      <td>0</td>\n",
       "      <td>Absence</td>\n",
       "    </tr>\n",
       "  </tbody>\n",
       "</table>\n",
       "</div>"
      ],
      "text/plain": [
       "   age  sex  cp  trestbps  chol  fbs  restecg  thalach  exang  oldpeak  slope  \\\n",
       "0   52    1   0       125   212    0        1      168      0      1.0      2   \n",
       "1   53    1   0       140   203    1        0      155      1      3.1      0   \n",
       "2   70    1   0       145   174    0        1      125      1      2.6      0   \n",
       "3   61    1   0       148   203    0        1      161      0      0.0      2   \n",
       "4   62    0   0       138   294    1        1      106      0      1.9      1   \n",
       "\n",
       "   ca  thal  target Heart_Disease  \n",
       "0   2     3       0       Absence  \n",
       "1   0     3       0       Absence  \n",
       "2   0     3       0       Absence  \n",
       "3   1     3       0       Absence  \n",
       "4   3     2       0       Absence  "
      ]
     },
     "execution_count": 17,
     "metadata": {},
     "output_type": "execute_result"
    }
   ],
   "source": [
    "#Applying converted data into our dataset with new column - Heart_Disease\n",
    "\n",
    "data['Heart_Disease']=data['target'].apply(heart_disease)\n",
    "data.head()"
   ]
  },
  {
   "cell_type": "code",
   "execution_count": 18,
   "id": "b5c59cf6-7d62-4149-919b-1ebc4fe5f5d4",
   "metadata": {},
   "outputs": [
    {
     "data": {
      "text/plain": [
       "Heart_Disease\n",
       "Absence     499\n",
       "Presence    526\n",
       "Name: target, dtype: int64"
      ]
     },
     "execution_count": 18,
     "metadata": {},
     "output_type": "execute_result"
    }
   ],
   "source": [
    "hd=data.groupby('Heart_Disease')['target'].count()\n",
    "hd"
   ]
  },
  {
   "cell_type": "code",
   "execution_count": 19,
   "id": "d4329896-f163-47ef-abd6-badeb3dfd3bc",
   "metadata": {},
   "outputs": [
    {
     "data": {
      "image/png": "[encoded data removed]",
      "text/plain": [
       "<Figure size 500x800 with 1 Axes>"
      ]
     },
     "metadata": {},
     "output_type": "display_data"
    }
   ],
   "source": [
    "#Pie Chart Creation of Heart Disease Population % using MatplotLib\n",
    "\n",
    "plt.figure(figsize=(5,8))\n",
    "plt.pie(hd, labels=['Absence','Presence'],autopct = '%0.0f%%')\n",
    "plt.title('Heart Disease Population %', fontsize=15)\n",
    "plt.show()"
   ]
  },
  {
   "cell_type": "code",
   "execution_count": 20,
   "id": "6e8fe4e2-b489-46a3-a3f4-67d872bd7f49",
   "metadata": {},
   "outputs": [
    {
     "data": {
      "text/html": [
       "<div>\n",
       "<style scoped>\n",
       "    .dataframe tbody tr th:only-of-type {\n",
       "        vertical-align: middle;\n",
       "    }\n",
       "\n",
       "    .dataframe tbody tr th {\n",
       "        vertical-align: top;\n",
       "    }\n",
       "\n",
       "    .dataframe thead th {\n",
       "        text-align: right;\n",
       "    }\n",
       "</style>\n",
       "<table border=\"1\" class=\"dataframe\">\n",
       "  <thead>\n",
       "    <tr style=\"text-align: right;\">\n",
       "      <th></th>\n",
       "      <th>age</th>\n",
       "      <th>sex</th>\n",
       "      <th>cp</th>\n",
       "      <th>trestbps</th>\n",
       "      <th>chol</th>\n",
       "      <th>fbs</th>\n",
       "      <th>restecg</th>\n",
       "      <th>thalach</th>\n",
       "      <th>exang</th>\n",
       "      <th>oldpeak</th>\n",
       "      <th>slope</th>\n",
       "      <th>ca</th>\n",
       "      <th>thal</th>\n",
       "      <th>target</th>\n",
       "      <th>Heart_Disease</th>\n",
       "    </tr>\n",
       "  </thead>\n",
       "  <tbody>\n",
       "    <tr>\n",
       "      <th>0</th>\n",
       "      <td>52</td>\n",
       "      <td>1</td>\n",
       "      <td>0</td>\n",
       "      <td>125</td>\n",
       "      <td>212</td>\n",
       "      <td>0</td>\n",
       "      <td>1</td>\n",
       "      <td>168</td>\n",
       "      <td>0</td>\n",
       "      <td>1.0</td>\n",
       "      <td>2</td>\n",
       "      <td>2</td>\n",
       "      <td>3</td>\n",
       "      <td>0</td>\n",
       "      <td>Absence</td>\n",
       "    </tr>\n",
       "    <tr>\n",
       "      <th>1</th>\n",
       "      <td>53</td>\n",
       "      <td>1</td>\n",
       "      <td>0</td>\n",
       "      <td>140</td>\n",
       "      <td>203</td>\n",
       "      <td>1</td>\n",
       "      <td>0</td>\n",
       "      <td>155</td>\n",
       "      <td>1</td>\n",
       "      <td>3.1</td>\n",
       "      <td>0</td>\n",
       "      <td>0</td>\n",
       "      <td>3</td>\n",
       "      <td>0</td>\n",
       "      <td>Absence</td>\n",
       "    </tr>\n",
       "    <tr>\n",
       "      <th>2</th>\n",
       "      <td>70</td>\n",
       "      <td>1</td>\n",
       "      <td>0</td>\n",
       "      <td>145</td>\n",
       "      <td>174</td>\n",
       "      <td>0</td>\n",
       "      <td>1</td>\n",
       "      <td>125</td>\n",
       "      <td>1</td>\n",
       "      <td>2.6</td>\n",
       "      <td>0</td>\n",
       "      <td>0</td>\n",
       "      <td>3</td>\n",
       "      <td>0</td>\n",
       "      <td>Absence</td>\n",
       "    </tr>\n",
       "    <tr>\n",
       "      <th>3</th>\n",
       "      <td>61</td>\n",
       "      <td>1</td>\n",
       "      <td>0</td>\n",
       "      <td>148</td>\n",
       "      <td>203</td>\n",
       "      <td>0</td>\n",
       "      <td>1</td>\n",
       "      <td>161</td>\n",
       "      <td>0</td>\n",
       "      <td>0.0</td>\n",
       "      <td>2</td>\n",
       "      <td>1</td>\n",
       "      <td>3</td>\n",
       "      <td>0</td>\n",
       "      <td>Absence</td>\n",
       "    </tr>\n",
       "    <tr>\n",
       "      <th>4</th>\n",
       "      <td>62</td>\n",
       "      <td>0</td>\n",
       "      <td>0</td>\n",
       "      <td>138</td>\n",
       "      <td>294</td>\n",
       "      <td>1</td>\n",
       "      <td>1</td>\n",
       "      <td>106</td>\n",
       "      <td>0</td>\n",
       "      <td>1.9</td>\n",
       "      <td>1</td>\n",
       "      <td>3</td>\n",
       "      <td>2</td>\n",
       "      <td>0</td>\n",
       "      <td>Absence</td>\n",
       "    </tr>\n",
       "    <tr>\n",
       "      <th>...</th>\n",
       "      <td>...</td>\n",
       "      <td>...</td>\n",
       "      <td>...</td>\n",
       "      <td>...</td>\n",
       "      <td>...</td>\n",
       "      <td>...</td>\n",
       "      <td>...</td>\n",
       "      <td>...</td>\n",
       "      <td>...</td>\n",
       "      <td>...</td>\n",
       "      <td>...</td>\n",
       "      <td>...</td>\n",
       "      <td>...</td>\n",
       "      <td>...</td>\n",
       "      <td>...</td>\n",
       "    </tr>\n",
       "    <tr>\n",
       "      <th>1020</th>\n",
       "      <td>59</td>\n",
       "      <td>1</td>\n",
       "      <td>1</td>\n",
       "      <td>140</td>\n",
       "      <td>221</td>\n",
       "      <td>0</td>\n",
       "      <td>1</td>\n",
       "      <td>164</td>\n",
       "      <td>1</td>\n",
       "      <td>0.0</td>\n",
       "      <td>2</td>\n",
       "      <td>0</td>\n",
       "      <td>2</td>\n",
       "      <td>1</td>\n",
       "      <td>Presence</td>\n",
       "    </tr>\n",
       "    <tr>\n",
       "      <th>1021</th>\n",
       "      <td>60</td>\n",
       "      <td>1</td>\n",
       "      <td>0</td>\n",
       "      <td>125</td>\n",
       "      <td>258</td>\n",
       "      <td>0</td>\n",
       "      <td>0</td>\n",
       "      <td>141</td>\n",
       "      <td>1</td>\n",
       "      <td>2.8</td>\n",
       "      <td>1</td>\n",
       "      <td>1</td>\n",
       "      <td>3</td>\n",
       "      <td>0</td>\n",
       "      <td>Absence</td>\n",
       "    </tr>\n",
       "    <tr>\n",
       "      <th>1022</th>\n",
       "      <td>47</td>\n",
       "      <td>1</td>\n",
       "      <td>0</td>\n",
       "      <td>110</td>\n",
       "      <td>275</td>\n",
       "      <td>0</td>\n",
       "      <td>0</td>\n",
       "      <td>118</td>\n",
       "      <td>1</td>\n",
       "      <td>1.0</td>\n",
       "      <td>1</td>\n",
       "      <td>1</td>\n",
       "      <td>2</td>\n",
       "      <td>0</td>\n",
       "      <td>Absence</td>\n",
       "    </tr>\n",
       "    <tr>\n",
       "      <th>1023</th>\n",
       "      <td>50</td>\n",
       "      <td>0</td>\n",
       "      <td>0</td>\n",
       "      <td>110</td>\n",
       "      <td>254</td>\n",
       "      <td>0</td>\n",
       "      <td>0</td>\n",
       "      <td>159</td>\n",
       "      <td>0</td>\n",
       "      <td>0.0</td>\n",
       "      <td>2</td>\n",
       "      <td>0</td>\n",
       "      <td>2</td>\n",
       "      <td>1</td>\n",
       "      <td>Presence</td>\n",
       "    </tr>\n",
       "    <tr>\n",
       "      <th>1024</th>\n",
       "      <td>54</td>\n",
       "      <td>1</td>\n",
       "      <td>0</td>\n",
       "      <td>120</td>\n",
       "      <td>188</td>\n",
       "      <td>0</td>\n",
       "      <td>1</td>\n",
       "      <td>113</td>\n",
       "      <td>0</td>\n",
       "      <td>1.4</td>\n",
       "      <td>1</td>\n",
       "      <td>1</td>\n",
       "      <td>3</td>\n",
       "      <td>0</td>\n",
       "      <td>Absence</td>\n",
       "    </tr>\n",
       "  </tbody>\n",
       "</table>\n",
       "<p>1025 rows × 15 columns</p>\n",
       "</div>"
      ],
      "text/plain": [
       "      age  sex  cp  trestbps  chol  fbs  restecg  thalach  exang  oldpeak  \\\n",
       "0      52    1   0       125   212    0        1      168      0      1.0   \n",
       "1      53    1   0       140   203    1        0      155      1      3.1   \n",
       "2      70    1   0       145   174    0        1      125      1      2.6   \n",
       "3      61    1   0       148   203    0        1      161      0      0.0   \n",
       "4      62    0   0       138   294    1        1      106      0      1.9   \n",
       "...   ...  ...  ..       ...   ...  ...      ...      ...    ...      ...   \n",
       "1020   59    1   1       140   221    0        1      164      1      0.0   \n",
       "1021   60    1   0       125   258    0        0      141      1      2.8   \n",
       "1022   47    1   0       110   275    0        0      118      1      1.0   \n",
       "1023   50    0   0       110   254    0        0      159      0      0.0   \n",
       "1024   54    1   0       120   188    0        1      113      0      1.4   \n",
       "\n",
       "      slope  ca  thal  target Heart_Disease  \n",
       "0         2   2     3       0       Absence  \n",
       "1         0   0     3       0       Absence  \n",
       "2         0   0     3       0       Absence  \n",
       "3         2   1     3       0       Absence  \n",
       "4         1   3     2       0       Absence  \n",
       "...     ...  ..   ...     ...           ...  \n",
       "1020      2   0     2       1      Presence  \n",
       "1021      1   1     3       0       Absence  \n",
       "1022      1   1     2       0       Absence  \n",
       "1023      2   0     2       1      Presence  \n",
       "1024      1   1     3       0       Absence  \n",
       "\n",
       "[1025 rows x 15 columns]"
      ]
     },
     "execution_count": 20,
     "metadata": {},
     "output_type": "execute_result"
    }
   ],
   "source": [
    "data"
   ]
  },
  {
   "cell_type": "code",
   "execution_count": 21,
   "id": "27c20e11-5ba0-42a4-b318-8b078ac1d6b1",
   "metadata": {},
   "outputs": [
    {
     "data": {
      "image/png": "[encoded data removed]",
      "text/plain": [
       "<Figure size 1500x700 with 1 Axes>"
      ]
     },
     "metadata": {},
     "output_type": "display_data"
    }
   ],
   "source": [
    "#Countplot Creation of Population Age using MatplotLib and Seaborn\n",
    "\n",
    "plt.figure(figsize=(15,7))\n",
    "sns.countplot(x='age', data=data, palette='YlGn_r')\n",
    "plt.title('Population Age', fontsize=17)\n",
    "plt.xlabel('Age', fontsize=15)\n",
    "plt.ylabel('Count', fontsize=15)\n",
    "plt.show()"
   ]
  },
  {
   "cell_type": "code",
   "execution_count": 22,
   "id": "2d8e1400-6db8-45eb-b22b-b27680fbba13",
   "metadata": {},
   "outputs": [
    {
     "name": "stdout",
     "output_type": "stream",
     "text": [
      "Minimum Age = 29\n",
      "Maximum Age = 77\n",
      "Mean Age = 54.43414634146342\n"
     ]
    }
   ],
   "source": [
    "#Statistical Analysis\n",
    "\n",
    "Min_Age=data['age'].min()\n",
    "Max_Age=data['age'].max()\n",
    "Mean_Age=data['age'].mean()\n",
    "print(\"Minimum Age =\",Min_Age)\n",
    "print(\"Maximum Age =\",Max_Age)\n",
    "print(\"Mean Age =\",Mean_Age)"
   ]
  },
  {
   "cell_type": "code",
   "execution_count": 23,
   "id": "13c6fdac-2e41-4b3e-8365-6c9c5817f072",
   "metadata": {},
   "outputs": [
    {
     "name": "stdout",
     "output_type": "stream",
     "text": [
      "Young Ages = 57\n",
      "Middle Ages = 419\n",
      "Elderly Ages = 519\n"
     ]
    }
   ],
   "source": [
    "#Categorical Analysis\n",
    "\n",
    "Young_Ages=data[(data['age']>=29) & (data['age']<40)]\n",
    "Middle_Ages=data[(data['age']>=40) & (data['age']<55)]\n",
    "Elderly_Ages=data[(data['age']>55)]\n",
    "print('Young Ages =',len(Young_Ages))\n",
    "print('Middle Ages =',len(Middle_Ages))\n",
    "print('Elderly Ages =',len(Elderly_Ages))"
   ]
  },
  {
   "cell_type": "code",
   "execution_count": 24,
   "id": "77ad6697-ce0e-4ea9-bc00-7e7665e23a5f",
   "metadata": {},
   "outputs": [
    {
     "data": {
      "image/png": "[encoded data removed]",
      "text/plain": [
       "<Figure size 640x480 with 1 Axes>"
      ]
     },
     "metadata": {},
     "output_type": "display_data"
    }
   ],
   "source": [
    "#Bar Plot Creation of Age Category using MatplotLib and Seaborn\n",
    "\n",
    "sns.barplot(x=['Young_Ages','Middle_Ages','Elderly_Ages'], y=[len(Young_Ages), len(Middle_Ages), len(Elderly_Ages)], palette = 'YlGn_r')\n",
    "plt.title('Age Category', fontsize=17)\n",
    "plt.xlabel('Age Range', fontsize=15)\n",
    "plt.ylabel('Count', fontsize=15)\n",
    "plt.show() "
   ]
  },
  {
   "cell_type": "code",
   "execution_count": 25,
   "id": "bc5c3414-340b-4b0c-85e3-05fc2c2ce4bc",
   "metadata": {},
   "outputs": [],
   "source": [
    "#Converting Numerical Data into Categorical Data\n",
    "\n",
    "def sex(row):\n",
    "    if row==1:\n",
    "        return 'Male'\n",
    "    elif row==0:\n",
    "        return 'Female'"
   ]
  },
  {
   "cell_type": "code",
   "execution_count": 26,
   "id": "3344338d-362b-426e-9116-ea9a3058d67f",
   "metadata": {},
   "outputs": [
    {
     "data": {
      "text/html": [
       "<div>\n",
       "<style scoped>\n",
       "    .dataframe tbody tr th:only-of-type {\n",
       "        vertical-align: middle;\n",
       "    }\n",
       "\n",
       "    .dataframe tbody tr th {\n",
       "        vertical-align: top;\n",
       "    }\n",
       "\n",
       "    .dataframe thead th {\n",
       "        text-align: right;\n",
       "    }\n",
       "</style>\n",
       "<table border=\"1\" class=\"dataframe\">\n",
       "  <thead>\n",
       "    <tr style=\"text-align: right;\">\n",
       "      <th></th>\n",
       "      <th>age</th>\n",
       "      <th>sex</th>\n",
       "      <th>cp</th>\n",
       "      <th>trestbps</th>\n",
       "      <th>chol</th>\n",
       "      <th>fbs</th>\n",
       "      <th>restecg</th>\n",
       "      <th>thalach</th>\n",
       "      <th>exang</th>\n",
       "      <th>oldpeak</th>\n",
       "      <th>slope</th>\n",
       "      <th>ca</th>\n",
       "      <th>thal</th>\n",
       "      <th>target</th>\n",
       "      <th>Heart_Disease</th>\n",
       "      <th>Gender</th>\n",
       "    </tr>\n",
       "  </thead>\n",
       "  <tbody>\n",
       "    <tr>\n",
       "      <th>0</th>\n",
       "      <td>52</td>\n",
       "      <td>1</td>\n",
       "      <td>0</td>\n",
       "      <td>125</td>\n",
       "      <td>212</td>\n",
       "      <td>0</td>\n",
       "      <td>1</td>\n",
       "      <td>168</td>\n",
       "      <td>0</td>\n",
       "      <td>1.0</td>\n",
       "      <td>2</td>\n",
       "      <td>2</td>\n",
       "      <td>3</td>\n",
       "      <td>0</td>\n",
       "      <td>Absence</td>\n",
       "      <td>Male</td>\n",
       "    </tr>\n",
       "    <tr>\n",
       "      <th>1</th>\n",
       "      <td>53</td>\n",
       "      <td>1</td>\n",
       "      <td>0</td>\n",
       "      <td>140</td>\n",
       "      <td>203</td>\n",
       "      <td>1</td>\n",
       "      <td>0</td>\n",
       "      <td>155</td>\n",
       "      <td>1</td>\n",
       "      <td>3.1</td>\n",
       "      <td>0</td>\n",
       "      <td>0</td>\n",
       "      <td>3</td>\n",
       "      <td>0</td>\n",
       "      <td>Absence</td>\n",
       "      <td>Male</td>\n",
       "    </tr>\n",
       "    <tr>\n",
       "      <th>2</th>\n",
       "      <td>70</td>\n",
       "      <td>1</td>\n",
       "      <td>0</td>\n",
       "      <td>145</td>\n",
       "      <td>174</td>\n",
       "      <td>0</td>\n",
       "      <td>1</td>\n",
       "      <td>125</td>\n",
       "      <td>1</td>\n",
       "      <td>2.6</td>\n",
       "      <td>0</td>\n",
       "      <td>0</td>\n",
       "      <td>3</td>\n",
       "      <td>0</td>\n",
       "      <td>Absence</td>\n",
       "      <td>Male</td>\n",
       "    </tr>\n",
       "    <tr>\n",
       "      <th>3</th>\n",
       "      <td>61</td>\n",
       "      <td>1</td>\n",
       "      <td>0</td>\n",
       "      <td>148</td>\n",
       "      <td>203</td>\n",
       "      <td>0</td>\n",
       "      <td>1</td>\n",
       "      <td>161</td>\n",
       "      <td>0</td>\n",
       "      <td>0.0</td>\n",
       "      <td>2</td>\n",
       "      <td>1</td>\n",
       "      <td>3</td>\n",
       "      <td>0</td>\n",
       "      <td>Absence</td>\n",
       "      <td>Male</td>\n",
       "    </tr>\n",
       "    <tr>\n",
       "      <th>4</th>\n",
       "      <td>62</td>\n",
       "      <td>0</td>\n",
       "      <td>0</td>\n",
       "      <td>138</td>\n",
       "      <td>294</td>\n",
       "      <td>1</td>\n",
       "      <td>1</td>\n",
       "      <td>106</td>\n",
       "      <td>0</td>\n",
       "      <td>1.9</td>\n",
       "      <td>1</td>\n",
       "      <td>3</td>\n",
       "      <td>2</td>\n",
       "      <td>0</td>\n",
       "      <td>Absence</td>\n",
       "      <td>Female</td>\n",
       "    </tr>\n",
       "  </tbody>\n",
       "</table>\n",
       "</div>"
      ],
      "text/plain": [
       "   age  sex  cp  trestbps  chol  fbs  restecg  thalach  exang  oldpeak  slope  \\\n",
       "0   52    1   0       125   212    0        1      168      0      1.0      2   \n",
       "1   53    1   0       140   203    1        0      155      1      3.1      0   \n",
       "2   70    1   0       145   174    0        1      125      1      2.6      0   \n",
       "3   61    1   0       148   203    0        1      161      0      0.0      2   \n",
       "4   62    0   0       138   294    1        1      106      0      1.9      1   \n",
       "\n",
       "   ca  thal  target Heart_Disease  Gender  \n",
       "0   2     3       0       Absence    Male  \n",
       "1   0     3       0       Absence    Male  \n",
       "2   0     3       0       Absence    Male  \n",
       "3   1     3       0       Absence    Male  \n",
       "4   3     2       0       Absence  Female  "
      ]
     },
     "execution_count": 26,
     "metadata": {},
     "output_type": "execute_result"
    }
   ],
   "source": [
    "#Applying converted data into our dataset with new column - Heart_Disease\n",
    "\n",
    "data['Gender']=data['sex'].apply(sex)\n",
    "data.head()"
   ]
  },
  {
   "cell_type": "code",
   "execution_count": null,
   "id": "3087923d-c7f6-404b-b287-c2542b6f023a",
   "metadata": {},
   "outputs": [],
   "source": [
    "#Converting Numerical Data into Categorical Data\n",
    "\n",
    "def age_range(row):\n",
    "    if row>=29 and row<40:\n",
    "        return 'Young Age'\n",
    "    elif row>=40 and row<55:\n",
    "        return 'Middle Age'\n",
    "    elif row>55:\n",
    "        return 'Elder Age'"
   ]
  },
  {
   "cell_type": "code",
   "execution_count": null,
   "id": "67277a4a-a67c-47d9-9034-db8b48236a21",
   "metadata": {},
   "outputs": [],
   "source": [
    "data['Age_Range']=data['age'].apply(age_range)\n",
    "data.head()"
   ]
  },
  {
   "cell_type": "code",
   "execution_count": null,
   "id": "e9201825-aeb1-466b-97bb-38b527ce8985",
   "metadata": {},
   "outputs": [],
   "source": [
    "# Count plot of Age_Range\n",
    "plt.figure(figsize=(8, 6))\n",
    "sns.countplot(x='Age_Range', data=data, palette='YlGn_r')\n",
    "plt.title('Distribution of Age Ranges')\n",
    "plt.xlabel('Age Range')\n",
    "plt.ylabel('Count')\n",
    "plt.show() "
   ]
  },
  {
   "cell_type": "code",
   "execution_count": null,
   "id": "31d54ee8-31d9-4db8-be64-164680d0f30d",
   "metadata": {},
   "outputs": [],
   "source": [
    "#Swarm Plot Creation of Gender Based Age Category using MatplotLib and Seaborn\n",
    "\n",
    "plt.figure(figsize=(10,7))\n",
    "sns.swarmplot(x='Age_Range', y='age',data=data, hue = 'sex', order=['Young Age','Middle Age','Elder Age'], palette='Reds_r')\n",
    "plt.title('Gender Based Age Category', fontsize=17)\n",
    "plt.xlabel('Age Category', fontsize=15)\n",
    "plt.ylabel('Age', fontsize=15)\n",
    "plt.show()"
   ]
  },
  {
   "cell_type": "code",
   "execution_count": null,
   "id": "34e86566-01b0-4971-b3ee-56fda53e4ddd",
   "metadata": {},
   "outputs": [],
   "source": [
    "#Count Plot Creation of Heart Disease Based On Age Category using MatplotLib and Seaborn\n",
    "\n",
    "plt.figure(figsize=(7,5))\n",
    "hue_order=['Young Age', 'Middle Age', 'Elder Age']\n",
    "sns.countplot(x='Heart_Disease', hue='Age_Range', data=data, order=['Presence','Absence'], hue_order=hue_order, palette='Blues_r')\n",
    "plt.title('Heart Disease Based On Age Category', fontsize=17)\n",
    "plt.xlabel('Heart Disease', fontsize=15)\n",
    "plt.ylabel('Counts', fontsize=15)\n",
    "plt.show()"
   ]
  },
  {
   "cell_type": "code",
   "execution_count": null,
   "id": "adbb2983-f2c0-4c26-9118-921e962e80ee",
   "metadata": {},
   "outputs": [],
   "source": [
    "#Count Plot Creation of Heart Disease Based on Gender using MatplotLib and Seaborn\n",
    "\n",
    "plt.figure(figsize=(7,5))\n",
    "sns.countplot(x=data['Heart_Disease'], hue='Gender', data=data, palette='Blues_r')\n",
    "plt.xlabel('Heart Disease', fontsize=15)\n",
    "plt.ylabel('Count',fontsize=15)\n",
    "plt.legend(labels=['Male','Female'])\n",
    "plt.title('Heart Disease Based on Gender',fontsize=17)\n",
    "plt.show()"
   ]
  },
  {
   "cell_type": "code",
   "execution_count": null,
   "id": "519adfcf-13c9-46e7-b765-173a6eb2a6ce",
   "metadata": {},
   "outputs": [],
   "source": [
    "#Count Plot Creation of Chest Pain Experienced using MatplotLib and Seaborn\n",
    "\n",
    "sns.countplot(x=data['Heart_Disease'], hue='cp', data=data, order=['Presence','Absence'], palette='Greens_r')\n",
    "plt.title('Chest Pain Experienced', fontsize=17)\n",
    "plt.xlabel('Heart Disease',fontsize=15)\n",
    "plt.ylabel('Counts',fontsize=15)\n",
    "plt.legend(labels=['Typical Angina','Atypical Angina','Non-Anginal pain','Asymptomatic'])\n",
    "plt.show()"
   ]
  },
  {
   "cell_type": "code",
   "execution_count": null,
   "id": "254ac882-5fd2-4445-b877-f3e79a7e73f6",
   "metadata": {},
   "outputs": [],
   "source": [
    "#Count Plot Creation of Chest Pain Experienced using MatplotLib and Seaborn\n",
    "sns.countplot(x=data['Gender'], hue='cp', data=data, palette='Reds_r')\n",
    "plt.title('Chest Pain Based on Gender', fontsize=17)\n",
    "plt.xlabel('Gender',fontsize=15)\n",
    "plt.ylabel('Counts',fontsize=15)\n",
    "plt.legend(labels=['Typical Angina','Atypical Angina','Non-Anginal pain','Asymptomatic'])\n",
    "plt.show()"
   ]
  },
  {
   "cell_type": "code",
   "execution_count": null,
   "id": "b83f3241-05b6-47ba-9cd9-a30cb3afbc61",
   "metadata": {},
   "outputs": [],
   "source": [
    "#Count Plot Creation of Chest Pain Based On Age Category using MatplotLib and Seaborn\n",
    "\n",
    "sns.countplot(x=data['Age_Range'], hue='cp', data=data, order=['Young Age', 'Middle Age', 'Elder Age'], palette='BrBG')\n",
    "plt.title('Chest Pain Based On Age Category', fontsize=17)\n",
    "plt.xlabel('Age Category', fontsize=15)\n",
    "plt.ylabel('Counts', fontsize=15)\n",
    "plt.legend(labels=['Typical Angina','Atypical Angina','Non-Anginal pain','Asymptomatic'])\n",
    "plt.show()"
   ]
  },
  {
   "cell_type": "code",
   "execution_count": null,
   "id": "fcec35a0-548d-426d-90ee-190dc3106140",
   "metadata": {},
   "outputs": [],
   "source": [
    "#Bar Plot Creation of Person's Resting Blood Pressure (mm Hg) using MatplotLib and Seaborn\n",
    "\n",
    "sns.barplot(x='Gender', y='trestbps', data=data, palette='plasma')\n",
    "plt.title(\"Blood Pressure\", fontsize=17)\n",
    "plt.xlabel('Sex',fontsize=15)\n",
    "plt.ylabel(\"Person's Resting Blood Pressure (mm Hg)\", fontsize=12)\n",
    "plt.show()"
   ]
  },
  {
   "cell_type": "code",
   "execution_count": null,
   "id": "72da38f7-b92d-461e-a58d-94d60324b400",
   "metadata": {},
   "outputs": [],
   "source": [
    "#Bar Plot Creation of Cholestrol Level Based On Gender using MatplotLib and Seaborn\n",
    "\n",
    "sns.barplot(x='Gender', y='chol', data=data, palette='turbo')\n",
    "plt.title(\"Cholestrol Level Based On Gender\", fontsize=17)\n",
    "plt.xlabel('Sex',fontsize=15)\n",
    "plt.ylabel(\"Cholestrol\", fontsize=15)\n",
    "plt.show()"
   ]
  },
  {
   "cell_type": "code",
   "execution_count": null,
   "id": "44063c80-9430-406c-9dc1-c80bec7726a2",
   "metadata": {},
   "outputs": [],
   "source": [
    "#Bar Plot Creation of Cholestrol Level Based On Gender using MatplotLib and Seaborn\n",
    "\n",
    "sns.barplot(x='Gender', y='chol', data=data, palette='turbo')\n",
    "plt.title(\"Cholestrol Level Based On Gender\", fontsize=17)\n",
    "plt.xlabel('Sex',fontsize=15)\n",
    "plt.ylabel(\"Cholestrol\", fontsize=15)\n",
    "plt.show()"
   ]
  },
  {
   "cell_type": "code",
   "execution_count": null,
   "id": "bb588229-d2d4-48bc-af13-1e43597505f9",
   "metadata": {},
   "outputs": [],
   "source": [
    "#Bar Plot Creation of Cholestrol VS Heart Disease using MatplotLib and Seaborn\n",
    "\n",
    "sns.barplot(x='Heart_Disease', y='chol', data=data, palette='ocean_r')\n",
    "plt.title('Cholestrol VS Heart Disease', fontsize=17)\n",
    "plt.xlabel('Heart Disease', fontsize=15)\n",
    "plt.ylabel('Cholestrol', fontsize=15)\n",
    "plt.show()"
   ]
  },
  {
   "cell_type": "code",
   "execution_count": null,
   "id": "343b0fb0-982d-4ae7-a8ce-62322759bc0a",
   "metadata": {},
   "outputs": [],
   "source": [
    "#Bar Plot Creation of Blood Pressure VS Heart Disease using MatplotLib and Seaborn\n",
    "\n",
    "sns.barplot(x='Heart_Disease', y='trestbps', data=data, palette='tab20b_r')\n",
    "plt.title('Blood Pressure VS Heart Disease', fontsize=17)\n",
    "plt.xlabel('Heart Disease', fontsize=15)\n",
    "plt.ylabel('Blood Pressure', fontsize=15)\n",
    "plt.show()"
   ]
  },
  {
   "cell_type": "code",
   "execution_count": null,
   "id": "8acc5701-0dec-44e3-91d1-097dada3704d",
   "metadata": {},
   "outputs": [],
   "source": [
    "#Line Plot Creation of Blood Pressure VS Age using MatplotLib and Seaborn\n",
    "\n",
    "sns.lineplot(x='age', y='trestbps', data=data, color='b')\n",
    "plt.title('Blood Pressure vs Age', fontsize=17)\n",
    "plt.xlabel('Age', fontsize=15)\n",
    "plt.ylabel('Blood Pressure', fontsize=15)\n",
    "plt.show()"
   ]
  },
  {
   "cell_type": "code",
   "execution_count": null,
   "id": "533aeae7-dbf6-40bd-a4d4-0377248031b1",
   "metadata": {},
   "outputs": [],
   "source": [
    "#Line Plot Creation of Cholestrol VS Age using MatplotLib and Seaborn\n",
    "\n",
    "sns.lineplot(x='age', y='chol', data=data, color='r')\n",
    "plt.title('Cholestrol vs Age', fontsize=17)\n",
    "plt.xlabel('Age', fontsize=15)\n",
    "plt.ylabel('Cholestrol', fontsize=15)\n",
    "plt.show()"
   ]
  },
  {
   "cell_type": "code",
   "execution_count": null,
   "id": "3a8d7b1a-e7de-422f-9370-aa5768a46534",
   "metadata": {},
   "outputs": [],
   "source": [
    "#Line Plot Creation of ST Depression VS Age using MatplotLib and Seaborn\n",
    "\n",
    "sns.lineplot(x='age', y='oldpeak', data=data)\n",
    "plt.title('ST Depression VS Age', fontsize=17)\n",
    "plt.xlabel('Age', fontsize=15)\n",
    "plt.ylabel('ST depression', fontsize=15)\n",
    "plt.show()"
   ]
  },
  {
   "cell_type": "code",
   "execution_count": null,
   "id": "3743e7ef-c3d3-4ae0-96cf-80a44eb4d66d",
   "metadata": {},
   "outputs": [],
   "source": [
    "#Bar Plot Creation of ST depression VS Heart Disease using MatplotLib and Seaborn\n",
    "\n",
    "sns.barplot(x='Gender', y='oldpeak', data=data, palette='Greens_r')\n",
    "plt.title('ST depression VS Heart Disease', fontsize=17)\n",
    "plt.xlabel('Sex', fontsize=15)\n",
    "plt.ylabel('ST depression', fontsize=15)\n",
    "plt.show()"
   ]
  },
  {
   "cell_type": "code",
   "execution_count": null,
   "id": "24b09c86-1367-4690-b6d9-2a1b5fd2c106",
   "metadata": {},
   "outputs": [],
   "source": [
    "#Bar Plot Creation of Exercise With Angina VS Heart Disease using MatplotLib and Seaborn\n",
    "\n",
    "sns.barplot(x='Heart_Disease', y='exang', data=data, palette='viridis')\n",
    "plt.title('Exercise With Angina vs Heart Disease', fontsize=17)\n",
    "plt.xlabel('Heart Disease', fontsize=15)\n",
    "plt.ylabel('Exercise With Angina', fontsize=15)\n",
    "plt.show()"
   ]
  },
  {
   "cell_type": "code",
   "execution_count": null,
   "id": "29b5e3a7-6b3d-420b-b7be-0f4c11acde3c",
   "metadata": {},
   "outputs": [],
   "source": [
    "#Bar Plot Creation of Exercise With Angina VS Gender using MatplotLib and Seaborn\n",
    "\n",
    "sns.barplot(x='Gender', y='exang', data=data, palette='binary_r')\n",
    "plt.title('Exercise With Angina VS Gender', fontsize=17)\n",
    "plt.xlabel('Sex', fontsize=15)\n",
    "plt.ylabel('Exercise With Angina', fontsize=15)\n",
    "plt.show()"
   ]
  },
  {
   "cell_type": "code",
   "execution_count": null,
   "id": "3623e772-25be-4ba9-996b-8b35f9abfccf",
   "metadata": {},
   "outputs": [],
   "source": [
    "#Bar Plot Creation of Fasting Blood Sugar VS Gender using MatplotLib and Seaborn\n",
    "\n",
    "sns.barplot(x='Gender',y='fbs', data=data, palette='hsv')\n",
    "plt.title(' Fasting Blood Sugar vs Gender', fontsize=17)\n",
    "plt.xlabel('Sex', fontsize=15)\n",
    "plt.ylabel('Fasting Blood Sugar', fontsize=15)\n",
    "plt.show()"
   ]
  },
  {
   "cell_type": "code",
   "execution_count": null,
   "id": "adcf08b7-e978-48d8-86be-5776c9a0f313",
   "metadata": {},
   "outputs": [],
   "source": [
    "numeric_data = data.select_dtypes(include=[float, int])"
   ]
  },
  {
   "cell_type": "code",
   "execution_count": null,
   "id": "0c82f71a-0724-4dd6-b8ef-210d76debd66",
   "metadata": {},
   "outputs": [],
   "source": [
    "numeric_data.corr()"
   ]
  },
  {
   "cell_type": "code",
   "execution_count": null,
   "id": "5825e431-5cfd-44d9-a59e-94117d899608",
   "metadata": {},
   "outputs": [],
   "source": [
    "#Heatmap Creation using Seaborn\n",
    "\n",
    "'''annot repersents numerical value inside box , cp = color map, eg.. Reds_s, Greens_s\n",
    "* 1 indicates a perfect positive correlation (as one variable increases, the other variable also increases).\n",
    "* 0 indicates no correlation (no linear relationship between the variables). \n",
    "* -1 indicates a perfect negative correlation (as one variable increases, the other variable decreases).'''"
   ]
  },
  {
   "cell_type": "code",
   "execution_count": null,
   "id": "1d2fdfab-c2ad-46dd-be79-830a1e437aca",
   "metadata": {},
   "outputs": [],
   "source": [
    "plt.figure(figsize=(13,8))\n",
    "sns.heatmap(numeric_data.corr(), annot=True, linewidth=3)"
   ]
  },
  {
   "cell_type": "code",
   "execution_count": null,
   "id": "ffd9ec7a-091a-48b9-950a-4e11b3629e8e",
   "metadata": {},
   "outputs": [],
   "source": [
    "plt.figure(figsize=(12, 8))\n",
    "sns.heatmap(numeric_data.corr(), annot=True, cmap='viridis', linewidths=0.5)\n",
    "plt.title('Correlation Matrix')\n",
    "plt.show()"
   ]
  },
  {
   "cell_type": "code",
   "execution_count": null,
   "id": "00a35be7-501d-4912-add9-e59bf40b098c",
   "metadata": {},
   "outputs": [],
   "source": [
    "# Now we will export the preprocessed dataset to a csv file with no row indexes\n",
    "# Output file: preprocessed_heart_disease_dataset.csv\n",
    "\n",
    "data.to_csv('D:\\Project_Internship\\Heart Disease data\\preprocessed_heart_disease_dataset.csv',index = False)"
   ]
  },
  {
   "cell_type": "code",
   "execution_count": null,
   "id": "ee2d25e1-3350-4a51-b98b-beb91a5ceed0",
   "metadata": {},
   "outputs": [],
   "source": []
  }
 ],
 "metadata": {
  "kernelspec": {
   "display_name": "Python 3 (ipykernel)",
   "language": "python",
   "name": "python3"
  },
  "language_info": {
   "codemirror_mode": {
    "name": "ipython",
    "version": 3
   },
   "file_extension": ".py",
   "mimetype": "text/x-python",
   "name": "python",
   "nbconvert_exporter": "python",
   "pygments_lexer": "ipython3",
   "version": "3.12.0"
  }
 },
 "nbformat": 4,
 "nbformat_minor": 5
}
